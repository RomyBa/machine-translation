{
 "cells": [
  {
   "cell_type": "code",
   "execution_count": null,
   "metadata": {},
   "outputs": [],
   "source": [
    "# gradio_deployment.ipynb\n",
    "!pip install gradio tensorflow"
   ]
  },
  {
   "cell_type": "code",
   "execution_count": null,
   "metadata": {},
   "outputs": [],
   "source": [
    "import gradio as gr\n",
    "import tensorflow as tf\n",
    "import numpy as np\n",
    "import pickle\n",
    "from tensorflow.keras.preprocessing.sequence import pad_sequences"
   ]
  },
  {
   "cell_type": "code",
   "execution_count": null,
   "metadata": {},
   "outputs": [],
   "source": [
    "# Load resources\n",
    "model = tf.keras.models.load_model('model/machine_translation.keras')\n",
    "\n",
    "TOKENIZER_EN_PATH = \"model/tokenizer_en.pkl\"\n",
    "TOKENIZER_FR_PATH = \"model/tokenizer_fr.pkl\"\n",
    "\n",
    "\n",
    "with open(TOKENIZER_EN_PATH, 'rb') as f:\n",
    "    tokenizer_en = pickle.load(f)\n",
    "with open(TOKENIZER_FR_PATH, 'rb') as f:\n",
    "    tokenizer_fr = pickle.load(f)\n",
    "\n",
    "MAX_LENGTH = 14\n",
    "\n",
    "def translate(text):\n",
    "    # Preprocess input\n",
    "    sequence = tokenizer_en.texts_to_sequences([text])\n",
    "    padded = pad_sequences(sequence, maxlen=MAX_LENGTH, padding='post')\n",
    "    \n",
    "    # Initialize decoder\n",
    "    decoder_input = np.zeros((1, MAX_LENGTH))\n",
    "    \n",
    "    # Generate translation\n",
    "    for i in range(MAX_LENGTH):\n",
    "        pred = model.predict([padded, decoder_input], verbose=0)\n",
    "        predicted_token = np.argmax(pred[0, i])\n",
    "\n",
    "        decoder_input[0, i] = predicted_token\n",
    "    translated_sentence = ' '.join([tokenizer_fr.index_word[token] for token in decoder_input[0] if token != 0])\n",
    "    \n",
    "    return translated_sentence\n",
    "\n",
    "# Create Gradio interface\n",
    "interface = gr.Interface(\n",
    "    fn=translate,\n",
    "    inputs=gr.Textbox(label=\"English Input\"),\n",
    "    outputs=gr.Textbox(label=\"French Translation\"),\n",
    "    title=\"English to French Translator\",\n",
    "    examples=[[\"Hello world\"], [\"How are you today?\"]]\n",
    ")\n",
    "\n",
    "interface.launch(share=True)"
   ]
  },
  {
   "cell_type": "code",
   "execution_count": null,
   "metadata": {},
   "outputs": [],
   "source": []
  }
 ],
 "metadata": {
  "kernelspec": {
   "display_name": "venv",
   "language": "python",
   "name": "python3"
  },
  "language_info": {
   "codemirror_mode": {
    "name": "ipython",
    "version": 3
   },
   "file_extension": ".py",
   "mimetype": "text/x-python",
   "name": "python",
   "nbconvert_exporter": "python",
   "pygments_lexer": "ipython3",
   "version": "3.12.4"
  }
 },
 "nbformat": 4,
 "nbformat_minor": 2
}
