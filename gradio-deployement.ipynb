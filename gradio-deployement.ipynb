{
 "cells": [
  {
   "cell_type": "code",
   "execution_count": 1,
   "metadata": {},
   "outputs": [
    {
     "name": "stdout",
     "output_type": "stream",
     "text": [
      "Requirement already satisfied: gradio in c:\\users\\romy.bouabdo\\desktop\\romy\\online courses\\zaka ai\\module 7 part 2\\project-machine-translation\\venv\\lib\\site-packages (5.16.0)\n",
      "Requirement already satisfied: tensorflow in c:\\users\\romy.bouabdo\\desktop\\romy\\online courses\\zaka ai\\module 7 part 2\\project-machine-translation\\venv\\lib\\site-packages (2.18.0)\n",
      "Requirement already satisfied: aiofiles<24.0,>=22.0 in c:\\users\\romy.bouabdo\\desktop\\romy\\online courses\\zaka ai\\module 7 part 2\\project-machine-translation\\venv\\lib\\site-packages (from gradio) (23.2.1)\n",
      "Requirement already satisfied: anyio<5.0,>=3.0 in c:\\users\\romy.bouabdo\\desktop\\romy\\online courses\\zaka ai\\module 7 part 2\\project-machine-translation\\venv\\lib\\site-packages (from gradio) (4.8.0)\n",
      "Requirement already satisfied: fastapi<1.0,>=0.115.2 in c:\\users\\romy.bouabdo\\desktop\\romy\\online courses\\zaka ai\\module 7 part 2\\project-machine-translation\\venv\\lib\\site-packages (from gradio) (0.115.8)\n",
      "Requirement already satisfied: ffmpy in c:\\users\\romy.bouabdo\\desktop\\romy\\online courses\\zaka ai\\module 7 part 2\\project-machine-translation\\venv\\lib\\site-packages (from gradio) (0.5.0)\n",
      "Requirement already satisfied: gradio-client==1.7.0 in c:\\users\\romy.bouabdo\\desktop\\romy\\online courses\\zaka ai\\module 7 part 2\\project-machine-translation\\venv\\lib\\site-packages (from gradio) (1.7.0)\n",
      "Requirement already satisfied: httpx>=0.24.1 in c:\\users\\romy.bouabdo\\desktop\\romy\\online courses\\zaka ai\\module 7 part 2\\project-machine-translation\\venv\\lib\\site-packages (from gradio) (0.28.1)\n",
      "Requirement already satisfied: huggingface-hub>=0.28.1 in c:\\users\\romy.bouabdo\\desktop\\romy\\online courses\\zaka ai\\module 7 part 2\\project-machine-translation\\venv\\lib\\site-packages (from gradio) (0.28.1)\n",
      "Requirement already satisfied: jinja2<4.0 in c:\\users\\romy.bouabdo\\desktop\\romy\\online courses\\zaka ai\\module 7 part 2\\project-machine-translation\\venv\\lib\\site-packages (from gradio) (3.1.5)\n",
      "Requirement already satisfied: markupsafe~=2.0 in c:\\users\\romy.bouabdo\\desktop\\romy\\online courses\\zaka ai\\module 7 part 2\\project-machine-translation\\venv\\lib\\site-packages (from gradio) (2.1.5)\n",
      "Requirement already satisfied: numpy<3.0,>=1.0 in c:\\users\\romy.bouabdo\\desktop\\romy\\online courses\\zaka ai\\module 7 part 2\\project-machine-translation\\venv\\lib\\site-packages (from gradio) (2.0.2)\n",
      "Requirement already satisfied: orjson~=3.0 in c:\\users\\romy.bouabdo\\desktop\\romy\\online courses\\zaka ai\\module 7 part 2\\project-machine-translation\\venv\\lib\\site-packages (from gradio) (3.10.15)\n",
      "Requirement already satisfied: packaging in c:\\users\\romy.bouabdo\\desktop\\romy\\online courses\\zaka ai\\module 7 part 2\\project-machine-translation\\venv\\lib\\site-packages (from gradio) (24.2)\n",
      "Requirement already satisfied: pandas<3.0,>=1.0 in c:\\users\\romy.bouabdo\\desktop\\romy\\online courses\\zaka ai\\module 7 part 2\\project-machine-translation\\venv\\lib\\site-packages (from gradio) (2.2.3)\n",
      "Requirement already satisfied: pillow<12.0,>=8.0 in c:\\users\\romy.bouabdo\\desktop\\romy\\online courses\\zaka ai\\module 7 part 2\\project-machine-translation\\venv\\lib\\site-packages (from gradio) (11.1.0)\n",
      "Requirement already satisfied: pydantic>=2.0 in c:\\users\\romy.bouabdo\\desktop\\romy\\online courses\\zaka ai\\module 7 part 2\\project-machine-translation\\venv\\lib\\site-packages (from gradio) (2.10.6)\n",
      "Requirement already satisfied: pydub in c:\\users\\romy.bouabdo\\desktop\\romy\\online courses\\zaka ai\\module 7 part 2\\project-machine-translation\\venv\\lib\\site-packages (from gradio) (0.25.1)\n",
      "Requirement already satisfied: python-multipart>=0.0.18 in c:\\users\\romy.bouabdo\\desktop\\romy\\online courses\\zaka ai\\module 7 part 2\\project-machine-translation\\venv\\lib\\site-packages (from gradio) (0.0.20)\n",
      "Requirement already satisfied: pyyaml<7.0,>=5.0 in c:\\users\\romy.bouabdo\\desktop\\romy\\online courses\\zaka ai\\module 7 part 2\\project-machine-translation\\venv\\lib\\site-packages (from gradio) (6.0.2)\n",
      "Requirement already satisfied: ruff>=0.9.3 in c:\\users\\romy.bouabdo\\desktop\\romy\\online courses\\zaka ai\\module 7 part 2\\project-machine-translation\\venv\\lib\\site-packages (from gradio) (0.9.6)\n",
      "Requirement already satisfied: safehttpx<0.2.0,>=0.1.6 in c:\\users\\romy.bouabdo\\desktop\\romy\\online courses\\zaka ai\\module 7 part 2\\project-machine-translation\\venv\\lib\\site-packages (from gradio) (0.1.6)\n",
      "Requirement already satisfied: semantic-version~=2.0 in c:\\users\\romy.bouabdo\\desktop\\romy\\online courses\\zaka ai\\module 7 part 2\\project-machine-translation\\venv\\lib\\site-packages (from gradio) (2.10.0)\n",
      "Requirement already satisfied: starlette<1.0,>=0.40.0 in c:\\users\\romy.bouabdo\\desktop\\romy\\online courses\\zaka ai\\module 7 part 2\\project-machine-translation\\venv\\lib\\site-packages (from gradio) (0.45.3)\n",
      "Requirement already satisfied: tomlkit<0.14.0,>=0.12.0 in c:\\users\\romy.bouabdo\\desktop\\romy\\online courses\\zaka ai\\module 7 part 2\\project-machine-translation\\venv\\lib\\site-packages (from gradio) (0.13.2)\n",
      "Requirement already satisfied: typer<1.0,>=0.12 in c:\\users\\romy.bouabdo\\desktop\\romy\\online courses\\zaka ai\\module 7 part 2\\project-machine-translation\\venv\\lib\\site-packages (from gradio) (0.15.1)\n",
      "Requirement already satisfied: typing-extensions~=4.0 in c:\\users\\romy.bouabdo\\desktop\\romy\\online courses\\zaka ai\\module 7 part 2\\project-machine-translation\\venv\\lib\\site-packages (from gradio) (4.12.2)\n",
      "Requirement already satisfied: uvicorn>=0.14.0 in c:\\users\\romy.bouabdo\\desktop\\romy\\online courses\\zaka ai\\module 7 part 2\\project-machine-translation\\venv\\lib\\site-packages (from gradio) (0.34.0)\n",
      "Requirement already satisfied: fsspec in c:\\users\\romy.bouabdo\\desktop\\romy\\online courses\\zaka ai\\module 7 part 2\\project-machine-translation\\venv\\lib\\site-packages (from gradio-client==1.7.0->gradio) (2025.2.0)\n",
      "Requirement already satisfied: websockets<15.0,>=10.0 in c:\\users\\romy.bouabdo\\desktop\\romy\\online courses\\zaka ai\\module 7 part 2\\project-machine-translation\\venv\\lib\\site-packages (from gradio-client==1.7.0->gradio) (14.2)\n",
      "Requirement already satisfied: tensorflow-intel==2.18.0 in c:\\users\\romy.bouabdo\\desktop\\romy\\online courses\\zaka ai\\module 7 part 2\\project-machine-translation\\venv\\lib\\site-packages (from tensorflow) (2.18.0)\n",
      "Requirement already satisfied: absl-py>=1.0.0 in c:\\users\\romy.bouabdo\\desktop\\romy\\online courses\\zaka ai\\module 7 part 2\\project-machine-translation\\venv\\lib\\site-packages (from tensorflow-intel==2.18.0->tensorflow) (2.1.0)\n",
      "Requirement already satisfied: astunparse>=1.6.0 in c:\\users\\romy.bouabdo\\desktop\\romy\\online courses\\zaka ai\\module 7 part 2\\project-machine-translation\\venv\\lib\\site-packages (from tensorflow-intel==2.18.0->tensorflow) (1.6.3)\n",
      "Requirement already satisfied: flatbuffers>=24.3.25 in c:\\users\\romy.bouabdo\\desktop\\romy\\online courses\\zaka ai\\module 7 part 2\\project-machine-translation\\venv\\lib\\site-packages (from tensorflow-intel==2.18.0->tensorflow) (25.2.10)\n",
      "Requirement already satisfied: gast!=0.5.0,!=0.5.1,!=0.5.2,>=0.2.1 in c:\\users\\romy.bouabdo\\desktop\\romy\\online courses\\zaka ai\\module 7 part 2\\project-machine-translation\\venv\\lib\\site-packages (from tensorflow-intel==2.18.0->tensorflow) (0.6.0)\n",
      "Requirement already satisfied: google-pasta>=0.1.1 in c:\\users\\romy.bouabdo\\desktop\\romy\\online courses\\zaka ai\\module 7 part 2\\project-machine-translation\\venv\\lib\\site-packages (from tensorflow-intel==2.18.0->tensorflow) (0.2.0)\n",
      "Requirement already satisfied: libclang>=13.0.0 in c:\\users\\romy.bouabdo\\desktop\\romy\\online courses\\zaka ai\\module 7 part 2\\project-machine-translation\\venv\\lib\\site-packages (from tensorflow-intel==2.18.0->tensorflow) (18.1.1)\n",
      "Requirement already satisfied: opt-einsum>=2.3.2 in c:\\users\\romy.bouabdo\\desktop\\romy\\online courses\\zaka ai\\module 7 part 2\\project-machine-translation\\venv\\lib\\site-packages (from tensorflow-intel==2.18.0->tensorflow) (3.4.0)\n",
      "Requirement already satisfied: protobuf!=4.21.0,!=4.21.1,!=4.21.2,!=4.21.3,!=4.21.4,!=4.21.5,<6.0.0dev,>=3.20.3 in c:\\users\\romy.bouabdo\\desktop\\romy\\online courses\\zaka ai\\module 7 part 2\\project-machine-translation\\venv\\lib\\site-packages (from tensorflow-intel==2.18.0->tensorflow) (5.29.3)\n",
      "Requirement already satisfied: requests<3,>=2.21.0 in c:\\users\\romy.bouabdo\\desktop\\romy\\online courses\\zaka ai\\module 7 part 2\\project-machine-translation\\venv\\lib\\site-packages (from tensorflow-intel==2.18.0->tensorflow) (2.32.3)\n",
      "Requirement already satisfied: setuptools in c:\\users\\romy.bouabdo\\desktop\\romy\\online courses\\zaka ai\\module 7 part 2\\project-machine-translation\\venv\\lib\\site-packages (from tensorflow-intel==2.18.0->tensorflow) (75.8.0)\n",
      "Requirement already satisfied: six>=1.12.0 in c:\\users\\romy.bouabdo\\desktop\\romy\\online courses\\zaka ai\\module 7 part 2\\project-machine-translation\\venv\\lib\\site-packages (from tensorflow-intel==2.18.0->tensorflow) (1.17.0)\n",
      "Requirement already satisfied: termcolor>=1.1.0 in c:\\users\\romy.bouabdo\\desktop\\romy\\online courses\\zaka ai\\module 7 part 2\\project-machine-translation\\venv\\lib\\site-packages (from tensorflow-intel==2.18.0->tensorflow) (2.5.0)\n",
      "Requirement already satisfied: wrapt>=1.11.0 in c:\\users\\romy.bouabdo\\desktop\\romy\\online courses\\zaka ai\\module 7 part 2\\project-machine-translation\\venv\\lib\\site-packages (from tensorflow-intel==2.18.0->tensorflow) (1.17.2)\n",
      "Requirement already satisfied: grpcio<2.0,>=1.24.3 in c:\\users\\romy.bouabdo\\desktop\\romy\\online courses\\zaka ai\\module 7 part 2\\project-machine-translation\\venv\\lib\\site-packages (from tensorflow-intel==2.18.0->tensorflow) (1.70.0)\n",
      "Requirement already satisfied: tensorboard<2.19,>=2.18 in c:\\users\\romy.bouabdo\\desktop\\romy\\online courses\\zaka ai\\module 7 part 2\\project-machine-translation\\venv\\lib\\site-packages (from tensorflow-intel==2.18.0->tensorflow) (2.18.0)\n",
      "Requirement already satisfied: keras>=3.5.0 in c:\\users\\romy.bouabdo\\desktop\\romy\\online courses\\zaka ai\\module 7 part 2\\project-machine-translation\\venv\\lib\\site-packages (from tensorflow-intel==2.18.0->tensorflow) (3.8.0)\n",
      "Requirement already satisfied: h5py>=3.11.0 in c:\\users\\romy.bouabdo\\desktop\\romy\\online courses\\zaka ai\\module 7 part 2\\project-machine-translation\\venv\\lib\\site-packages (from tensorflow-intel==2.18.0->tensorflow) (3.12.1)\n",
      "Requirement already satisfied: ml-dtypes<0.5.0,>=0.4.0 in c:\\users\\romy.bouabdo\\desktop\\romy\\online courses\\zaka ai\\module 7 part 2\\project-machine-translation\\venv\\lib\\site-packages (from tensorflow-intel==2.18.0->tensorflow) (0.4.1)\n",
      "Requirement already satisfied: idna>=2.8 in c:\\users\\romy.bouabdo\\desktop\\romy\\online courses\\zaka ai\\module 7 part 2\\project-machine-translation\\venv\\lib\\site-packages (from anyio<5.0,>=3.0->gradio) (3.10)\n",
      "Requirement already satisfied: sniffio>=1.1 in c:\\users\\romy.bouabdo\\desktop\\romy\\online courses\\zaka ai\\module 7 part 2\\project-machine-translation\\venv\\lib\\site-packages (from anyio<5.0,>=3.0->gradio) (1.3.1)\n",
      "Requirement already satisfied: certifi in c:\\users\\romy.bouabdo\\desktop\\romy\\online courses\\zaka ai\\module 7 part 2\\project-machine-translation\\venv\\lib\\site-packages (from httpx>=0.24.1->gradio) (2025.1.31)\n",
      "Requirement already satisfied: httpcore==1.* in c:\\users\\romy.bouabdo\\desktop\\romy\\online courses\\zaka ai\\module 7 part 2\\project-machine-translation\\venv\\lib\\site-packages (from httpx>=0.24.1->gradio) (1.0.7)\n",
      "Requirement already satisfied: h11<0.15,>=0.13 in c:\\users\\romy.bouabdo\\desktop\\romy\\online courses\\zaka ai\\module 7 part 2\\project-machine-translation\\venv\\lib\\site-packages (from httpcore==1.*->httpx>=0.24.1->gradio) (0.14.0)\n",
      "Requirement already satisfied: filelock in c:\\users\\romy.bouabdo\\desktop\\romy\\online courses\\zaka ai\\module 7 part 2\\project-machine-translation\\venv\\lib\\site-packages (from huggingface-hub>=0.28.1->gradio) (3.17.0)\n",
      "Requirement already satisfied: tqdm>=4.42.1 in c:\\users\\romy.bouabdo\\desktop\\romy\\online courses\\zaka ai\\module 7 part 2\\project-machine-translation\\venv\\lib\\site-packages (from huggingface-hub>=0.28.1->gradio) (4.67.1)\n",
      "Requirement already satisfied: python-dateutil>=2.8.2 in c:\\users\\romy.bouabdo\\desktop\\romy\\online courses\\zaka ai\\module 7 part 2\\project-machine-translation\\venv\\lib\\site-packages (from pandas<3.0,>=1.0->gradio) (2.9.0.post0)\n",
      "Requirement already satisfied: pytz>=2020.1 in c:\\users\\romy.bouabdo\\desktop\\romy\\online courses\\zaka ai\\module 7 part 2\\project-machine-translation\\venv\\lib\\site-packages (from pandas<3.0,>=1.0->gradio) (2025.1)\n",
      "Requirement already satisfied: tzdata>=2022.7 in c:\\users\\romy.bouabdo\\desktop\\romy\\online courses\\zaka ai\\module 7 part 2\\project-machine-translation\\venv\\lib\\site-packages (from pandas<3.0,>=1.0->gradio) (2025.1)\n",
      "Requirement already satisfied: annotated-types>=0.6.0 in c:\\users\\romy.bouabdo\\desktop\\romy\\online courses\\zaka ai\\module 7 part 2\\project-machine-translation\\venv\\lib\\site-packages (from pydantic>=2.0->gradio) (0.7.0)\n",
      "Requirement already satisfied: pydantic-core==2.27.2 in c:\\users\\romy.bouabdo\\desktop\\romy\\online courses\\zaka ai\\module 7 part 2\\project-machine-translation\\venv\\lib\\site-packages (from pydantic>=2.0->gradio) (2.27.2)\n",
      "Requirement already satisfied: click>=8.0.0 in c:\\users\\romy.bouabdo\\desktop\\romy\\online courses\\zaka ai\\module 7 part 2\\project-machine-translation\\venv\\lib\\site-packages (from typer<1.0,>=0.12->gradio) (8.1.8)\n",
      "Requirement already satisfied: shellingham>=1.3.0 in c:\\users\\romy.bouabdo\\desktop\\romy\\online courses\\zaka ai\\module 7 part 2\\project-machine-translation\\venv\\lib\\site-packages (from typer<1.0,>=0.12->gradio) (1.5.4)\n",
      "Requirement already satisfied: rich>=10.11.0 in c:\\users\\romy.bouabdo\\desktop\\romy\\online courses\\zaka ai\\module 7 part 2\\project-machine-translation\\venv\\lib\\site-packages (from typer<1.0,>=0.12->gradio) (13.9.4)\n",
      "Requirement already satisfied: wheel<1.0,>=0.23.0 in c:\\users\\romy.bouabdo\\desktop\\romy\\online courses\\zaka ai\\module 7 part 2\\project-machine-translation\\venv\\lib\\site-packages (from astunparse>=1.6.0->tensorflow-intel==2.18.0->tensorflow) (0.45.1)\n",
      "Requirement already satisfied: colorama in c:\\users\\romy.bouabdo\\desktop\\romy\\online courses\\zaka ai\\module 7 part 2\\project-machine-translation\\venv\\lib\\site-packages (from click>=8.0.0->typer<1.0,>=0.12->gradio) (0.4.6)\n",
      "Requirement already satisfied: namex in c:\\users\\romy.bouabdo\\desktop\\romy\\online courses\\zaka ai\\module 7 part 2\\project-machine-translation\\venv\\lib\\site-packages (from keras>=3.5.0->tensorflow-intel==2.18.0->tensorflow) (0.0.8)\n",
      "Requirement already satisfied: optree in c:\\users\\romy.bouabdo\\desktop\\romy\\online courses\\zaka ai\\module 7 part 2\\project-machine-translation\\venv\\lib\\site-packages (from keras>=3.5.0->tensorflow-intel==2.18.0->tensorflow) (0.14.0)\n",
      "Requirement already satisfied: charset-normalizer<4,>=2 in c:\\users\\romy.bouabdo\\desktop\\romy\\online courses\\zaka ai\\module 7 part 2\\project-machine-translation\\venv\\lib\\site-packages (from requests<3,>=2.21.0->tensorflow-intel==2.18.0->tensorflow) (3.4.1)\n",
      "Requirement already satisfied: urllib3<3,>=1.21.1 in c:\\users\\romy.bouabdo\\desktop\\romy\\online courses\\zaka ai\\module 7 part 2\\project-machine-translation\\venv\\lib\\site-packages (from requests<3,>=2.21.0->tensorflow-intel==2.18.0->tensorflow) (2.3.0)\n",
      "Requirement already satisfied: markdown-it-py>=2.2.0 in c:\\users\\romy.bouabdo\\desktop\\romy\\online courses\\zaka ai\\module 7 part 2\\project-machine-translation\\venv\\lib\\site-packages (from rich>=10.11.0->typer<1.0,>=0.12->gradio) (3.0.0)\n",
      "Requirement already satisfied: pygments<3.0.0,>=2.13.0 in c:\\users\\romy.bouabdo\\desktop\\romy\\online courses\\zaka ai\\module 7 part 2\\project-machine-translation\\venv\\lib\\site-packages (from rich>=10.11.0->typer<1.0,>=0.12->gradio) (2.19.1)\n",
      "Requirement already satisfied: markdown>=2.6.8 in c:\\users\\romy.bouabdo\\desktop\\romy\\online courses\\zaka ai\\module 7 part 2\\project-machine-translation\\venv\\lib\\site-packages (from tensorboard<2.19,>=2.18->tensorflow-intel==2.18.0->tensorflow) (3.7)\n",
      "Requirement already satisfied: tensorboard-data-server<0.8.0,>=0.7.0 in c:\\users\\romy.bouabdo\\desktop\\romy\\online courses\\zaka ai\\module 7 part 2\\project-machine-translation\\venv\\lib\\site-packages (from tensorboard<2.19,>=2.18->tensorflow-intel==2.18.0->tensorflow) (0.7.2)\n",
      "Requirement already satisfied: werkzeug>=1.0.1 in c:\\users\\romy.bouabdo\\desktop\\romy\\online courses\\zaka ai\\module 7 part 2\\project-machine-translation\\venv\\lib\\site-packages (from tensorboard<2.19,>=2.18->tensorflow-intel==2.18.0->tensorflow) (3.1.3)\n",
      "Requirement already satisfied: mdurl~=0.1 in c:\\users\\romy.bouabdo\\desktop\\romy\\online courses\\zaka ai\\module 7 part 2\\project-machine-translation\\venv\\lib\\site-packages (from markdown-it-py>=2.2.0->rich>=10.11.0->typer<1.0,>=0.12->gradio) (0.1.2)\n"
     ]
    },
    {
     "name": "stderr",
     "output_type": "stream",
     "text": [
      "\n",
      "[notice] A new release of pip is available: 24.0 -> 25.0.1\n",
      "[notice] To update, run: python.exe -m pip install --upgrade pip\n"
     ]
    }
   ],
   "source": [
    "# gradio_deployment.ipynb\n",
    "!pip install gradio tensorflow"
   ]
  },
  {
   "cell_type": "code",
   "execution_count": 2,
   "metadata": {},
   "outputs": [
    {
     "name": "stderr",
     "output_type": "stream",
     "text": [
      "c:\\Users\\romy.bouabdo\\Desktop\\Romy\\Online Courses\\Zaka AI\\Module 7 Part 2\\project-machine-translation\\venv\\Lib\\site-packages\\tqdm\\auto.py:21: TqdmWarning: IProgress not found. Please update jupyter and ipywidgets. See https://ipywidgets.readthedocs.io/en/stable/user_install.html\n",
      "  from .autonotebook import tqdm as notebook_tqdm\n"
     ]
    }
   ],
   "source": [
    "import gradio as gr\n",
    "import tensorflow as tf\n",
    "import numpy as np\n",
    "import pickle\n",
    "from tensorflow.keras.preprocessing.sequence import pad_sequences"
   ]
  },
  {
   "cell_type": "code",
   "execution_count": 4,
   "metadata": {},
   "outputs": [
    {
     "name": "stdout",
     "output_type": "stream",
     "text": [
      "* Running on local URL:  http://127.0.0.1:7860\n",
      "\n",
      "Could not create share link. Please check your internet connection or our status page: https://status.gradio.app.\n"
     ]
    },
    {
     "data": {
      "text/html": [
       "<div><iframe src=\"http://127.0.0.1:7860/\" width=\"100%\" height=\"500\" allow=\"autoplay; camera; microphone; clipboard-read; clipboard-write;\" frameborder=\"0\" allowfullscreen></iframe></div>"
      ],
      "text/plain": [
       "<IPython.core.display.HTML object>"
      ]
     },
     "metadata": {},
     "output_type": "display_data"
    },
    {
     "data": {
      "text/plain": []
     },
     "execution_count": 4,
     "metadata": {},
     "output_type": "execute_result"
    },
    {
     "name": "stdout",
     "output_type": "stream",
     "text": [
      "Created dataset file at: .gradio\\flagged\\dataset1.csv\n"
     ]
    }
   ],
   "source": [
    "# Load resources\n",
    "model = tf.keras.models.load_model('model/machine_translation.keras')\n",
    "\n",
    "TOKENIZER_EN_PATH = \"model/tokenizer_en.pkl\"\n",
    "TOKENIZER_FR_PATH = \"model/tokenizer_fr.pkl\"\n",
    "\n",
    "\n",
    "with open(TOKENIZER_EN_PATH, 'rb') as f:\n",
    "    tokenizer_en = pickle.load(f)\n",
    "with open(TOKENIZER_FR_PATH, 'rb') as f:\n",
    "    tokenizer_fr = pickle.load(f)\n",
    "\n",
    "MAX_LENGTH = 14\n",
    "\n",
    "def translate(text):\n",
    "    # Preprocess input\n",
    "    sequence = tokenizer_en.texts_to_sequences([text])\n",
    "    padded = pad_sequences(sequence, maxlen=MAX_LENGTH, padding='post')\n",
    "    \n",
    "    # Initialize decoder\n",
    "    decoder_input = np.zeros((1, MAX_LENGTH))\n",
    "    \n",
    "    # Generate translation\n",
    "    for i in range(MAX_LENGTH):\n",
    "        pred = model.predict([padded, decoder_input], verbose=0)\n",
    "        predicted_token = np.argmax(pred[0, i])\n",
    "\n",
    "        decoder_input[0, i] = predicted_token\n",
    "    translated_sentence = ' '.join([tokenizer_fr.index_word[token] for token in decoder_input[0] if token != 0])\n",
    "    \n",
    "    return translated_sentence\n",
    "\n",
    "# Create Gradio interface\n",
    "interface = gr.Interface(\n",
    "    fn=translate,\n",
    "    inputs=gr.Textbox(label=\"English Input\"),\n",
    "    outputs=gr.Textbox(label=\"French Translation\"),\n",
    "    title=\"English to French Translator\",\n",
    "    examples=[[\"Hello world\"], [\"How are you today?\"]]\n",
    ")\n",
    "\n",
    "interface.launch(share=True)"
   ]
  },
  {
   "cell_type": "code",
   "execution_count": null,
   "metadata": {},
   "outputs": [],
   "source": []
  }
 ],
 "metadata": {
  "kernelspec": {
   "display_name": "venv",
   "language": "python",
   "name": "python3"
  },
  "language_info": {
   "codemirror_mode": {
    "name": "ipython",
    "version": 3
   },
   "file_extension": ".py",
   "mimetype": "text/x-python",
   "name": "python",
   "nbconvert_exporter": "python",
   "pygments_lexer": "ipython3",
   "version": "3.12.4"
  }
 },
 "nbformat": 4,
 "nbformat_minor": 2
}
